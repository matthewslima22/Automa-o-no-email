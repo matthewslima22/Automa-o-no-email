{
 "cells": [
  {
   "cell_type": "markdown",
   "id": "f3e0f12e",
   "metadata": {},
   "source": [
    "# Automatizar um processo com a linguagem Python"
   ]
  },
  {
   "cell_type": "markdown",
   "id": "4144c367",
   "metadata": {},
   "source": [
    "## Obtendo dados de ações de forma automática\n"
   ]
  },
  {
   "cell_type": "markdown",
   "id": "a3383cbc",
   "metadata": {},
   "source": [
    "### Instalando a biblioteca"
   ]
  },
  {
   "cell_type": "code",
   "execution_count": 3,
   "id": "b5d34a70",
   "metadata": {
    "collapsed": true
   },
   "outputs": [
    {
     "name": "stdout",
     "output_type": "stream",
     "text": [
      "Defaulting to user installation because normal site-packages is not writeable\n",
      "Requirement already satisfied: yfinance in c:\\users\\matth\\appdata\\roaming\\python\\python311\\site-packages (0.2.36)\n",
      "Requirement already satisfied: pandas>=1.3.0 in c:\\programdata\\anaconda3\\lib\\site-packages (from yfinance) (2.0.3)\n",
      "Requirement already satisfied: numpy>=1.16.5 in c:\\programdata\\anaconda3\\lib\\site-packages (from yfinance) (1.24.3)\n",
      "Requirement already satisfied: requests>=2.31 in c:\\programdata\\anaconda3\\lib\\site-packages (from yfinance) (2.31.0)\n",
      "Requirement already satisfied: multitasking>=0.0.7 in c:\\users\\matth\\appdata\\roaming\\python\\python311\\site-packages (from yfinance) (0.0.11)\n",
      "Requirement already satisfied: lxml>=4.9.1 in c:\\programdata\\anaconda3\\lib\\site-packages (from yfinance) (4.9.3)\n",
      "Requirement already satisfied: appdirs>=1.4.4 in c:\\programdata\\anaconda3\\lib\\site-packages (from yfinance) (1.4.4)\n",
      "Requirement already satisfied: pytz>=2022.5 in c:\\programdata\\anaconda3\\lib\\site-packages (from yfinance) (2023.3.post1)\n",
      "Requirement already satisfied: frozendict>=2.3.4 in c:\\users\\matth\\appdata\\roaming\\python\\python311\\site-packages (from yfinance) (2.4.0)\n",
      "Requirement already satisfied: peewee>=3.16.2 in c:\\users\\matth\\appdata\\roaming\\python\\python311\\site-packages (from yfinance) (3.17.0)\n",
      "Requirement already satisfied: beautifulsoup4>=4.11.1 in c:\\programdata\\anaconda3\\lib\\site-packages (from yfinance) (4.12.2)\n",
      "Requirement already satisfied: html5lib>=1.1 in c:\\users\\matth\\appdata\\roaming\\python\\python311\\site-packages (from yfinance) (1.1)\n",
      "Requirement already satisfied: soupsieve>1.2 in c:\\programdata\\anaconda3\\lib\\site-packages (from beautifulsoup4>=4.11.1->yfinance) (2.4)\n",
      "Requirement already satisfied: six>=1.9 in c:\\programdata\\anaconda3\\lib\\site-packages (from html5lib>=1.1->yfinance) (1.16.0)\n",
      "Requirement already satisfied: webencodings in c:\\programdata\\anaconda3\\lib\\site-packages (from html5lib>=1.1->yfinance) (0.5.1)\n",
      "Requirement already satisfied: python-dateutil>=2.8.2 in c:\\programdata\\anaconda3\\lib\\site-packages (from pandas>=1.3.0->yfinance) (2.8.2)\n",
      "Requirement already satisfied: tzdata>=2022.1 in c:\\programdata\\anaconda3\\lib\\site-packages (from pandas>=1.3.0->yfinance) (2023.3)\n",
      "Requirement already satisfied: charset-normalizer<4,>=2 in c:\\programdata\\anaconda3\\lib\\site-packages (from requests>=2.31->yfinance) (2.0.4)\n",
      "Requirement already satisfied: idna<4,>=2.5 in c:\\programdata\\anaconda3\\lib\\site-packages (from requests>=2.31->yfinance) (3.4)\n",
      "Requirement already satisfied: urllib3<3,>=1.21.1 in c:\\programdata\\anaconda3\\lib\\site-packages (from requests>=2.31->yfinance) (1.26.16)\n",
      "Requirement already satisfied: certifi>=2017.4.17 in c:\\programdata\\anaconda3\\lib\\site-packages (from requests>=2.31->yfinance) (2023.7.22)\n"
     ]
    }
   ],
   "source": [
    "!pip install yfinance"
   ]
  },
  {
   "cell_type": "code",
   "execution_count": 2,
   "id": "d97718af",
   "metadata": {},
   "outputs": [],
   "source": [
    "import yfinance"
   ]
  },
  {
   "cell_type": "markdown",
   "id": "1b3e72b7",
   "metadata": {},
   "source": [
    "### Buscando as cotações de uma Ação\n"
   ]
  },
  {
   "cell_type": "code",
   "execution_count": 4,
   "id": "d370aca7",
   "metadata": {},
   "outputs": [
    {
     "name": "stdout",
     "output_type": "stream",
     "text": [
      "Digite o código da ação: PETR4.SA\n"
     ]
    }
   ],
   "source": [
    "# ticker é a ação\n",
    "ticker = input('Digite o código da ação: ')\n",
    "dados = yfinance.Ticker(ticker)\n"
   ]
  },
  {
   "cell_type": "code",
   "execution_count": 5,
   "id": "1f2611da",
   "metadata": {
    "collapsed": true
   },
   "outputs": [
    {
     "data": {
      "text/html": [
       "<div>\n",
       "<style scoped>\n",
       "    .dataframe tbody tr th:only-of-type {\n",
       "        vertical-align: middle;\n",
       "    }\n",
       "\n",
       "    .dataframe tbody tr th {\n",
       "        vertical-align: top;\n",
       "    }\n",
       "\n",
       "    .dataframe thead th {\n",
       "        text-align: right;\n",
       "    }\n",
       "</style>\n",
       "<table border=\"1\" class=\"dataframe\">\n",
       "  <thead>\n",
       "    <tr style=\"text-align: right;\">\n",
       "      <th></th>\n",
       "      <th>Open</th>\n",
       "      <th>High</th>\n",
       "      <th>Low</th>\n",
       "      <th>Close</th>\n",
       "      <th>Volume</th>\n",
       "      <th>Dividends</th>\n",
       "      <th>Stock Splits</th>\n",
       "    </tr>\n",
       "    <tr>\n",
       "      <th>Date</th>\n",
       "      <th></th>\n",
       "      <th></th>\n",
       "      <th></th>\n",
       "      <th></th>\n",
       "      <th></th>\n",
       "      <th></th>\n",
       "      <th></th>\n",
       "    </tr>\n",
       "  </thead>\n",
       "  <tbody>\n",
       "    <tr>\n",
       "      <th>2023-12-26 00:00:00-03:00</th>\n",
       "      <td>36.860001</td>\n",
       "      <td>37.369999</td>\n",
       "      <td>36.830002</td>\n",
       "      <td>37.330002</td>\n",
       "      <td>23466800</td>\n",
       "      <td>0.0</td>\n",
       "      <td>0.0</td>\n",
       "    </tr>\n",
       "    <tr>\n",
       "      <th>2023-12-27 00:00:00-03:00</th>\n",
       "      <td>37.320000</td>\n",
       "      <td>37.430000</td>\n",
       "      <td>37.130001</td>\n",
       "      <td>37.360001</td>\n",
       "      <td>19588500</td>\n",
       "      <td>0.0</td>\n",
       "      <td>0.0</td>\n",
       "    </tr>\n",
       "    <tr>\n",
       "      <th>2023-12-28 00:00:00-03:00</th>\n",
       "      <td>37.230000</td>\n",
       "      <td>37.360001</td>\n",
       "      <td>37.040001</td>\n",
       "      <td>37.240002</td>\n",
       "      <td>21421900</td>\n",
       "      <td>0.0</td>\n",
       "      <td>0.0</td>\n",
       "    </tr>\n",
       "    <tr>\n",
       "      <th>2024-01-02 00:00:00-03:00</th>\n",
       "      <td>37.439999</td>\n",
       "      <td>37.889999</td>\n",
       "      <td>37.400002</td>\n",
       "      <td>37.779999</td>\n",
       "      <td>24043800</td>\n",
       "      <td>0.0</td>\n",
       "      <td>0.0</td>\n",
       "    </tr>\n",
       "    <tr>\n",
       "      <th>2024-01-03 00:00:00-03:00</th>\n",
       "      <td>37.799999</td>\n",
       "      <td>39.119999</td>\n",
       "      <td>37.669998</td>\n",
       "      <td>38.959999</td>\n",
       "      <td>52300200</td>\n",
       "      <td>0.0</td>\n",
       "      <td>0.0</td>\n",
       "    </tr>\n",
       "    <tr>\n",
       "      <th>2024-01-04 00:00:00-03:00</th>\n",
       "      <td>39.119999</td>\n",
       "      <td>39.349998</td>\n",
       "      <td>38.509998</td>\n",
       "      <td>38.630001</td>\n",
       "      <td>45344900</td>\n",
       "      <td>0.0</td>\n",
       "      <td>0.0</td>\n",
       "    </tr>\n",
       "    <tr>\n",
       "      <th>2024-01-05 00:00:00-03:00</th>\n",
       "      <td>38.869999</td>\n",
       "      <td>39.139999</td>\n",
       "      <td>38.410000</td>\n",
       "      <td>38.720001</td>\n",
       "      <td>35783700</td>\n",
       "      <td>0.0</td>\n",
       "      <td>0.0</td>\n",
       "    </tr>\n",
       "    <tr>\n",
       "      <th>2024-01-08 00:00:00-03:00</th>\n",
       "      <td>38.380001</td>\n",
       "      <td>38.430000</td>\n",
       "      <td>37.610001</td>\n",
       "      <td>38.430000</td>\n",
       "      <td>35158100</td>\n",
       "      <td>0.0</td>\n",
       "      <td>0.0</td>\n",
       "    </tr>\n",
       "    <tr>\n",
       "      <th>2024-01-09 00:00:00-03:00</th>\n",
       "      <td>38.669998</td>\n",
       "      <td>38.750000</td>\n",
       "      <td>38.029999</td>\n",
       "      <td>38.099998</td>\n",
       "      <td>27279000</td>\n",
       "      <td>0.0</td>\n",
       "      <td>0.0</td>\n",
       "    </tr>\n",
       "    <tr>\n",
       "      <th>2024-01-10 00:00:00-03:00</th>\n",
       "      <td>38.099998</td>\n",
       "      <td>38.270000</td>\n",
       "      <td>37.509998</td>\n",
       "      <td>37.750000</td>\n",
       "      <td>27382000</td>\n",
       "      <td>0.0</td>\n",
       "      <td>0.0</td>\n",
       "    </tr>\n",
       "    <tr>\n",
       "      <th>2024-01-11 00:00:00-03:00</th>\n",
       "      <td>37.980000</td>\n",
       "      <td>38.150002</td>\n",
       "      <td>37.700001</td>\n",
       "      <td>38.070000</td>\n",
       "      <td>26564400</td>\n",
       "      <td>0.0</td>\n",
       "      <td>0.0</td>\n",
       "    </tr>\n",
       "    <tr>\n",
       "      <th>2024-01-12 00:00:00-03:00</th>\n",
       "      <td>38.500000</td>\n",
       "      <td>38.730000</td>\n",
       "      <td>38.169998</td>\n",
       "      <td>38.169998</td>\n",
       "      <td>24479500</td>\n",
       "      <td>0.0</td>\n",
       "      <td>0.0</td>\n",
       "    </tr>\n",
       "    <tr>\n",
       "      <th>2024-01-15 00:00:00-03:00</th>\n",
       "      <td>37.990002</td>\n",
       "      <td>38.619999</td>\n",
       "      <td>37.860001</td>\n",
       "      <td>38.580002</td>\n",
       "      <td>13818300</td>\n",
       "      <td>0.0</td>\n",
       "      <td>0.0</td>\n",
       "    </tr>\n",
       "    <tr>\n",
       "      <th>2024-01-16 00:00:00-03:00</th>\n",
       "      <td>38.610001</td>\n",
       "      <td>38.790001</td>\n",
       "      <td>38.080002</td>\n",
       "      <td>38.099998</td>\n",
       "      <td>31277700</td>\n",
       "      <td>0.0</td>\n",
       "      <td>0.0</td>\n",
       "    </tr>\n",
       "    <tr>\n",
       "      <th>2024-01-17 00:00:00-03:00</th>\n",
       "      <td>37.970001</td>\n",
       "      <td>38.150002</td>\n",
       "      <td>37.820000</td>\n",
       "      <td>37.880001</td>\n",
       "      <td>27577300</td>\n",
       "      <td>0.0</td>\n",
       "      <td>0.0</td>\n",
       "    </tr>\n",
       "    <tr>\n",
       "      <th>2024-01-18 00:00:00-03:00</th>\n",
       "      <td>38.139999</td>\n",
       "      <td>38.139999</td>\n",
       "      <td>37.560001</td>\n",
       "      <td>37.730000</td>\n",
       "      <td>22987200</td>\n",
       "      <td>0.0</td>\n",
       "      <td>0.0</td>\n",
       "    </tr>\n",
       "    <tr>\n",
       "      <th>2024-01-19 00:00:00-03:00</th>\n",
       "      <td>37.810001</td>\n",
       "      <td>37.900002</td>\n",
       "      <td>37.230000</td>\n",
       "      <td>37.529999</td>\n",
       "      <td>31745200</td>\n",
       "      <td>0.0</td>\n",
       "      <td>0.0</td>\n",
       "    </tr>\n",
       "    <tr>\n",
       "      <th>2024-01-22 00:00:00-03:00</th>\n",
       "      <td>37.500000</td>\n",
       "      <td>37.810001</td>\n",
       "      <td>37.230000</td>\n",
       "      <td>37.700001</td>\n",
       "      <td>22753700</td>\n",
       "      <td>0.0</td>\n",
       "      <td>0.0</td>\n",
       "    </tr>\n",
       "    <tr>\n",
       "      <th>2024-01-23 00:00:00-03:00</th>\n",
       "      <td>37.840000</td>\n",
       "      <td>38.369999</td>\n",
       "      <td>37.430000</td>\n",
       "      <td>38.169998</td>\n",
       "      <td>32498500</td>\n",
       "      <td>0.0</td>\n",
       "      <td>0.0</td>\n",
       "    </tr>\n",
       "    <tr>\n",
       "      <th>2024-01-24 00:00:00-03:00</th>\n",
       "      <td>38.290001</td>\n",
       "      <td>38.540001</td>\n",
       "      <td>37.770000</td>\n",
       "      <td>37.880001</td>\n",
       "      <td>25415300</td>\n",
       "      <td>0.0</td>\n",
       "      <td>0.0</td>\n",
       "    </tr>\n",
       "    <tr>\n",
       "      <th>2024-01-25 00:00:00-03:00</th>\n",
       "      <td>38.259998</td>\n",
       "      <td>39.279999</td>\n",
       "      <td>38.130001</td>\n",
       "      <td>39.279999</td>\n",
       "      <td>48655300</td>\n",
       "      <td>0.0</td>\n",
       "      <td>0.0</td>\n",
       "    </tr>\n",
       "    <tr>\n",
       "      <th>2024-01-26 00:00:00-03:00</th>\n",
       "      <td>39.099998</td>\n",
       "      <td>40.090000</td>\n",
       "      <td>38.910000</td>\n",
       "      <td>39.959999</td>\n",
       "      <td>41378200</td>\n",
       "      <td>0.0</td>\n",
       "      <td>0.0</td>\n",
       "    </tr>\n",
       "  </tbody>\n",
       "</table>\n",
       "</div>"
      ],
      "text/plain": [
       "                                Open       High        Low      Close  \\\n",
       "Date                                                                    \n",
       "2023-12-26 00:00:00-03:00  36.860001  37.369999  36.830002  37.330002   \n",
       "2023-12-27 00:00:00-03:00  37.320000  37.430000  37.130001  37.360001   \n",
       "2023-12-28 00:00:00-03:00  37.230000  37.360001  37.040001  37.240002   \n",
       "2024-01-02 00:00:00-03:00  37.439999  37.889999  37.400002  37.779999   \n",
       "2024-01-03 00:00:00-03:00  37.799999  39.119999  37.669998  38.959999   \n",
       "2024-01-04 00:00:00-03:00  39.119999  39.349998  38.509998  38.630001   \n",
       "2024-01-05 00:00:00-03:00  38.869999  39.139999  38.410000  38.720001   \n",
       "2024-01-08 00:00:00-03:00  38.380001  38.430000  37.610001  38.430000   \n",
       "2024-01-09 00:00:00-03:00  38.669998  38.750000  38.029999  38.099998   \n",
       "2024-01-10 00:00:00-03:00  38.099998  38.270000  37.509998  37.750000   \n",
       "2024-01-11 00:00:00-03:00  37.980000  38.150002  37.700001  38.070000   \n",
       "2024-01-12 00:00:00-03:00  38.500000  38.730000  38.169998  38.169998   \n",
       "2024-01-15 00:00:00-03:00  37.990002  38.619999  37.860001  38.580002   \n",
       "2024-01-16 00:00:00-03:00  38.610001  38.790001  38.080002  38.099998   \n",
       "2024-01-17 00:00:00-03:00  37.970001  38.150002  37.820000  37.880001   \n",
       "2024-01-18 00:00:00-03:00  38.139999  38.139999  37.560001  37.730000   \n",
       "2024-01-19 00:00:00-03:00  37.810001  37.900002  37.230000  37.529999   \n",
       "2024-01-22 00:00:00-03:00  37.500000  37.810001  37.230000  37.700001   \n",
       "2024-01-23 00:00:00-03:00  37.840000  38.369999  37.430000  38.169998   \n",
       "2024-01-24 00:00:00-03:00  38.290001  38.540001  37.770000  37.880001   \n",
       "2024-01-25 00:00:00-03:00  38.259998  39.279999  38.130001  39.279999   \n",
       "2024-01-26 00:00:00-03:00  39.099998  40.090000  38.910000  39.959999   \n",
       "\n",
       "                             Volume  Dividends  Stock Splits  \n",
       "Date                                                          \n",
       "2023-12-26 00:00:00-03:00  23466800        0.0           0.0  \n",
       "2023-12-27 00:00:00-03:00  19588500        0.0           0.0  \n",
       "2023-12-28 00:00:00-03:00  21421900        0.0           0.0  \n",
       "2024-01-02 00:00:00-03:00  24043800        0.0           0.0  \n",
       "2024-01-03 00:00:00-03:00  52300200        0.0           0.0  \n",
       "2024-01-04 00:00:00-03:00  45344900        0.0           0.0  \n",
       "2024-01-05 00:00:00-03:00  35783700        0.0           0.0  \n",
       "2024-01-08 00:00:00-03:00  35158100        0.0           0.0  \n",
       "2024-01-09 00:00:00-03:00  27279000        0.0           0.0  \n",
       "2024-01-10 00:00:00-03:00  27382000        0.0           0.0  \n",
       "2024-01-11 00:00:00-03:00  26564400        0.0           0.0  \n",
       "2024-01-12 00:00:00-03:00  24479500        0.0           0.0  \n",
       "2024-01-15 00:00:00-03:00  13818300        0.0           0.0  \n",
       "2024-01-16 00:00:00-03:00  31277700        0.0           0.0  \n",
       "2024-01-17 00:00:00-03:00  27577300        0.0           0.0  \n",
       "2024-01-18 00:00:00-03:00  22987200        0.0           0.0  \n",
       "2024-01-19 00:00:00-03:00  31745200        0.0           0.0  \n",
       "2024-01-22 00:00:00-03:00  22753700        0.0           0.0  \n",
       "2024-01-23 00:00:00-03:00  32498500        0.0           0.0  \n",
       "2024-01-24 00:00:00-03:00  25415300        0.0           0.0  \n",
       "2024-01-25 00:00:00-03:00  48655300        0.0           0.0  \n",
       "2024-01-26 00:00:00-03:00  41378200        0.0           0.0  "
      ]
     },
     "execution_count": 5,
     "metadata": {},
     "output_type": "execute_result"
    }
   ],
   "source": [
    "dados.history()"
   ]
  },
  {
   "cell_type": "markdown",
   "id": "cf06f1f1",
   "metadata": {},
   "source": [
    "### Configurando o período histórico\n",
    "- Ano: y\n",
    "- Mês: m\n",
    "- Dia: d"
   ]
  },
  {
   "cell_type": "code",
   "execution_count": 6,
   "id": "687a5a83",
   "metadata": {
    "collapsed": true
   },
   "outputs": [
    {
     "data": {
      "text/html": [
       "<div>\n",
       "<style scoped>\n",
       "    .dataframe tbody tr th:only-of-type {\n",
       "        vertical-align: middle;\n",
       "    }\n",
       "\n",
       "    .dataframe tbody tr th {\n",
       "        vertical-align: top;\n",
       "    }\n",
       "\n",
       "    .dataframe thead th {\n",
       "        text-align: right;\n",
       "    }\n",
       "</style>\n",
       "<table border=\"1\" class=\"dataframe\">\n",
       "  <thead>\n",
       "    <tr style=\"text-align: right;\">\n",
       "      <th></th>\n",
       "      <th>Open</th>\n",
       "      <th>High</th>\n",
       "      <th>Low</th>\n",
       "      <th>Close</th>\n",
       "      <th>Volume</th>\n",
       "      <th>Dividends</th>\n",
       "      <th>Stock Splits</th>\n",
       "    </tr>\n",
       "    <tr>\n",
       "      <th>Date</th>\n",
       "      <th></th>\n",
       "      <th></th>\n",
       "      <th></th>\n",
       "      <th></th>\n",
       "      <th></th>\n",
       "      <th></th>\n",
       "      <th></th>\n",
       "    </tr>\n",
       "  </thead>\n",
       "  <tbody>\n",
       "    <tr>\n",
       "      <th>2023-07-26 00:00:00-03:00</th>\n",
       "      <td>28.710424</td>\n",
       "      <td>28.960885</td>\n",
       "      <td>28.413578</td>\n",
       "      <td>28.756805</td>\n",
       "      <td>45880200</td>\n",
       "      <td>0.0</td>\n",
       "      <td>0.0</td>\n",
       "    </tr>\n",
       "    <tr>\n",
       "      <th>2023-07-27 00:00:00-03:00</th>\n",
       "      <td>28.617661</td>\n",
       "      <td>28.654766</td>\n",
       "      <td>27.254031</td>\n",
       "      <td>27.263308</td>\n",
       "      <td>86471900</td>\n",
       "      <td>0.0</td>\n",
       "      <td>0.0</td>\n",
       "    </tr>\n",
       "    <tr>\n",
       "      <th>2023-07-28 00:00:00-03:00</th>\n",
       "      <td>27.300412</td>\n",
       "      <td>27.782785</td>\n",
       "      <td>27.198371</td>\n",
       "      <td>27.606533</td>\n",
       "      <td>43608600</td>\n",
       "      <td>0.0</td>\n",
       "      <td>0.0</td>\n",
       "    </tr>\n",
       "    <tr>\n",
       "      <th>2023-07-31 00:00:00-03:00</th>\n",
       "      <td>28.107458</td>\n",
       "      <td>28.895951</td>\n",
       "      <td>28.107458</td>\n",
       "      <td>28.858847</td>\n",
       "      <td>91290800</td>\n",
       "      <td>0.0</td>\n",
       "      <td>0.0</td>\n",
       "    </tr>\n",
       "    <tr>\n",
       "      <th>2023-08-01 00:00:00-03:00</th>\n",
       "      <td>28.840295</td>\n",
       "      <td>28.840295</td>\n",
       "      <td>27.782787</td>\n",
       "      <td>28.385752</td>\n",
       "      <td>75752400</td>\n",
       "      <td>0.0</td>\n",
       "      <td>0.0</td>\n",
       "    </tr>\n",
       "    <tr>\n",
       "      <th>...</th>\n",
       "      <td>...</td>\n",
       "      <td>...</td>\n",
       "      <td>...</td>\n",
       "      <td>...</td>\n",
       "      <td>...</td>\n",
       "      <td>...</td>\n",
       "      <td>...</td>\n",
       "    </tr>\n",
       "    <tr>\n",
       "      <th>2024-01-22 00:00:00-03:00</th>\n",
       "      <td>37.500000</td>\n",
       "      <td>37.810001</td>\n",
       "      <td>37.230000</td>\n",
       "      <td>37.700001</td>\n",
       "      <td>22753700</td>\n",
       "      <td>0.0</td>\n",
       "      <td>0.0</td>\n",
       "    </tr>\n",
       "    <tr>\n",
       "      <th>2024-01-23 00:00:00-03:00</th>\n",
       "      <td>37.840000</td>\n",
       "      <td>38.369999</td>\n",
       "      <td>37.430000</td>\n",
       "      <td>38.169998</td>\n",
       "      <td>32498500</td>\n",
       "      <td>0.0</td>\n",
       "      <td>0.0</td>\n",
       "    </tr>\n",
       "    <tr>\n",
       "      <th>2024-01-24 00:00:00-03:00</th>\n",
       "      <td>38.290001</td>\n",
       "      <td>38.540001</td>\n",
       "      <td>37.770000</td>\n",
       "      <td>37.880001</td>\n",
       "      <td>25415300</td>\n",
       "      <td>0.0</td>\n",
       "      <td>0.0</td>\n",
       "    </tr>\n",
       "    <tr>\n",
       "      <th>2024-01-25 00:00:00-03:00</th>\n",
       "      <td>38.259998</td>\n",
       "      <td>39.279999</td>\n",
       "      <td>38.130001</td>\n",
       "      <td>39.279999</td>\n",
       "      <td>48655300</td>\n",
       "      <td>0.0</td>\n",
       "      <td>0.0</td>\n",
       "    </tr>\n",
       "    <tr>\n",
       "      <th>2024-01-26 00:00:00-03:00</th>\n",
       "      <td>39.099998</td>\n",
       "      <td>40.090000</td>\n",
       "      <td>38.910000</td>\n",
       "      <td>39.959999</td>\n",
       "      <td>41378200</td>\n",
       "      <td>0.0</td>\n",
       "      <td>0.0</td>\n",
       "    </tr>\n",
       "  </tbody>\n",
       "</table>\n",
       "<p>126 rows × 7 columns</p>\n",
       "</div>"
      ],
      "text/plain": [
       "                                Open       High        Low      Close  \\\n",
       "Date                                                                    \n",
       "2023-07-26 00:00:00-03:00  28.710424  28.960885  28.413578  28.756805   \n",
       "2023-07-27 00:00:00-03:00  28.617661  28.654766  27.254031  27.263308   \n",
       "2023-07-28 00:00:00-03:00  27.300412  27.782785  27.198371  27.606533   \n",
       "2023-07-31 00:00:00-03:00  28.107458  28.895951  28.107458  28.858847   \n",
       "2023-08-01 00:00:00-03:00  28.840295  28.840295  27.782787  28.385752   \n",
       "...                              ...        ...        ...        ...   \n",
       "2024-01-22 00:00:00-03:00  37.500000  37.810001  37.230000  37.700001   \n",
       "2024-01-23 00:00:00-03:00  37.840000  38.369999  37.430000  38.169998   \n",
       "2024-01-24 00:00:00-03:00  38.290001  38.540001  37.770000  37.880001   \n",
       "2024-01-25 00:00:00-03:00  38.259998  39.279999  38.130001  39.279999   \n",
       "2024-01-26 00:00:00-03:00  39.099998  40.090000  38.910000  39.959999   \n",
       "\n",
       "                             Volume  Dividends  Stock Splits  \n",
       "Date                                                          \n",
       "2023-07-26 00:00:00-03:00  45880200        0.0           0.0  \n",
       "2023-07-27 00:00:00-03:00  86471900        0.0           0.0  \n",
       "2023-07-28 00:00:00-03:00  43608600        0.0           0.0  \n",
       "2023-07-31 00:00:00-03:00  91290800        0.0           0.0  \n",
       "2023-08-01 00:00:00-03:00  75752400        0.0           0.0  \n",
       "...                             ...        ...           ...  \n",
       "2024-01-22 00:00:00-03:00  22753700        0.0           0.0  \n",
       "2024-01-23 00:00:00-03:00  32498500        0.0           0.0  \n",
       "2024-01-24 00:00:00-03:00  25415300        0.0           0.0  \n",
       "2024-01-25 00:00:00-03:00  48655300        0.0           0.0  \n",
       "2024-01-26 00:00:00-03:00  41378200        0.0           0.0  \n",
       "\n",
       "[126 rows x 7 columns]"
      ]
     },
     "execution_count": 6,
     "metadata": {},
     "output_type": "execute_result"
    }
   ],
   "source": [
    "tabela = dados.history(\"6mo\")\n",
    "tabela"
   ]
  },
  {
   "cell_type": "markdown",
   "id": "dee005dc",
   "metadata": {},
   "source": [
    "### Selecionando apenas a coluna de Fechamento (Close)\n",
    "Para selecionar a coluna desejada, basta colocar o nome dela entre colchetes na frente da variável que\n",
    "está armazenando os dado"
   ]
  },
  {
   "cell_type": "code",
   "execution_count": 8,
   "id": "28625a19",
   "metadata": {},
   "outputs": [
    {
     "data": {
      "text/plain": [
       "Date\n",
       "2023-07-26 00:00:00-03:00    28.756805\n",
       "2023-07-27 00:00:00-03:00    27.263308\n",
       "2023-07-28 00:00:00-03:00    27.606533\n",
       "2023-07-31 00:00:00-03:00    28.858847\n",
       "2023-08-01 00:00:00-03:00    28.385752\n",
       "                               ...    \n",
       "2024-01-22 00:00:00-03:00    37.700001\n",
       "2024-01-23 00:00:00-03:00    38.169998\n",
       "2024-01-24 00:00:00-03:00    37.880001\n",
       "2024-01-25 00:00:00-03:00    39.279999\n",
       "2024-01-26 00:00:00-03:00    39.959999\n",
       "Name: Close, Length: 126, dtype: float64"
      ]
     },
     "execution_count": 8,
     "metadata": {},
     "output_type": "execute_result"
    }
   ],
   "source": [
    "fechamento = tabela.Close\n",
    "fechamento"
   ]
  },
  {
   "cell_type": "markdown",
   "id": "af3e9011",
   "metadata": {},
   "source": [
    "### Gerando um gráfico de linha\n",
    "Vamos gerar um gráfico muito simples, apenas utilizando o método .plot()\n"
   ]
  },
  {
   "cell_type": "code",
   "execution_count": 9,
   "id": "4b82f913",
   "metadata": {
    "scrolled": true
   },
   "outputs": [
    {
     "data": {
      "text/plain": [
       "<Axes: xlabel='Date'>"
      ]
     },
     "execution_count": 9,
     "metadata": {},
     "output_type": "execute_result"
    },
    {
     "data": {
      "image/png": "[encoded data removed]",
      "text/plain": [
       "<Figure size 640x480 with 1 Axes>"
      ]
     },
     "metadata": {},
     "output_type": "display_data"
    }
   ],
   "source": [
    "fechamento.plot()"
   ]
  },
  {
   "cell_type": "markdown",
   "id": "c0160771",
   "metadata": {},
   "source": [
    "### Gerando as estatísticas\n",
    "Gerar estatísticas no Python é muito simples, pois já temos os métodos prontos para serem aplicados!\n",
    "- Cotação máxima: max()\n",
    "- Votação mínima: min()\n",
    "- Cotação atual: é a última linha!Para acessá-la basta colocar [-1]\n"
   ]
  },
  {
   "cell_type": "code",
   "execution_count": 10,
   "id": "33195be0",
   "metadata": {
    "scrolled": true
   },
   "outputs": [
    {
     "name": "stdout",
     "output_type": "stream",
     "text": [
      "39.959999084472656\n",
      "27.263307571411133\n",
      "39.959999084472656\n"
     ]
    }
   ],
   "source": [
    "maxima = fechamento.max()\n",
    "minima = fechamento.min()\n",
    "atual = fechamento[-1]\n",
    "print(maxima)\n",
    "print(minima)\n",
    "print(atual)\n"
   ]
  },
  {
   "cell_type": "markdown",
   "id": "f95bfd6a",
   "metadata": {},
   "source": [
    "### Enviando e-mail de forma automática\n",
    "Processo de enviar um e-mail passo a passo:\n",
    "- Abrir uma nova aba no navegador (clicar em + ou CTRL + T).\n",
    "- Digitar o endereço do gmail (www.gmail.com) e digitar ENTER.\n",
    "- Clicar em Escrever.\n",
    "- Digitar o endereço de e-mail do destinatário.\n",
    "- Mudar para o campo Assunto (clicar no campo ou digitar tab).\n",
    "- Digitar o Assunto.\n",
    "- Mudar para campo principal do e-mail (clicar no campo ou digitar tab).\n",
    "- Escrever a mensagem.\n",
    "- Clicar em Enviar.\n"
   ]
  },
  {
   "cell_type": "markdown",
   "id": "d0445221",
   "metadata": {},
   "source": [
    "### Instalando as bibliotecas\n"
   ]
  },
  {
   "cell_type": "code",
   "execution_count": 11,
   "id": "0165f88c",
   "metadata": {
    "collapsed": true
   },
   "outputs": [
    {
     "name": "stdout",
     "output_type": "stream",
     "text": [
      "Defaulting to user installation because normal site-packages is not writeable\n",
      "Collecting pyautogui\n",
      "  Downloading PyAutoGUI-0.9.54.tar.gz (61 kB)\n",
      "     ---------------------------------------- 0.0/61.2 kB ? eta -:--:--\n",
      "     ------ --------------------------------- 10.2/61.2 kB ? eta -:--:--\n",
      "     ------------------- ------------------ 30.7/61.2 kB 325.1 kB/s eta 0:00:01\n",
      "     ------------------------------- ------ 51.2/61.2 kB 372.4 kB/s eta 0:00:01\n",
      "     -------------------------------------- 61.2/61.2 kB 361.7 kB/s eta 0:00:00\n",
      "  Installing build dependencies: started\n",
      "  Installing build dependencies: finished with status 'done'\n",
      "  Getting requirements to build wheel: started\n",
      "  Getting requirements to build wheel: finished with status 'done'\n",
      "  Preparing metadata (pyproject.toml): started\n",
      "  Preparing metadata (pyproject.toml): finished with status 'done'\n",
      "Collecting pymsgbox (from pyautogui)\n",
      "  Downloading PyMsgBox-1.0.9.tar.gz (18 kB)\n",
      "  Installing build dependencies: started\n",
      "  Installing build dependencies: finished with status 'done'\n",
      "  Getting requirements to build wheel: started\n",
      "  Getting requirements to build wheel: finished with status 'done'\n",
      "  Preparing metadata (pyproject.toml): started\n",
      "  Preparing metadata (pyproject.toml): finished with status 'done'\n",
      "Collecting pytweening>=1.0.4 (from pyautogui)\n",
      "  Downloading pytweening-1.0.7.tar.gz (168 kB)\n",
      "     ---------------------------------------- 0.0/168.2 kB ? eta -:--:--\n",
      "     -------------- ------------------------ 61.4/168.2 kB 1.6 MB/s eta 0:00:01\n",
      "     --------------------- ----------------- 92.2/168.2 kB 1.1 MB/s eta 0:00:01\n",
      "     -------------------------------------- 168.2/168.2 kB 1.4 MB/s eta 0:00:00\n",
      "  Preparing metadata (setup.py): started\n",
      "  Preparing metadata (setup.py): finished with status 'done'\n",
      "Collecting pyscreeze>=0.1.21 (from pyautogui)\n",
      "  Downloading PyScreeze-0.1.30.tar.gz (27 kB)\n",
      "  Installing build dependencies: started\n",
      "  Installing build dependencies: finished with status 'done'\n",
      "  Getting requirements to build wheel: started\n",
      "  Getting requirements to build wheel: finished with status 'done'\n",
      "  Preparing metadata (pyproject.toml): started\n",
      "  Preparing metadata (pyproject.toml): finished with status 'done'\n",
      "Collecting pygetwindow>=0.0.5 (from pyautogui)\n",
      "  Downloading PyGetWindow-0.0.9.tar.gz (9.7 kB)\n",
      "  Preparing metadata (setup.py): started\n",
      "  Preparing metadata (setup.py): finished with status 'done'\n",
      "Collecting mouseinfo (from pyautogui)\n",
      "  Downloading MouseInfo-0.1.3.tar.gz (10 kB)\n",
      "  Preparing metadata (setup.py): started\n",
      "  Preparing metadata (setup.py): finished with status 'done'\n",
      "Collecting pyrect (from pygetwindow>=0.0.5->pyautogui)\n",
      "  Downloading PyRect-0.2.0.tar.gz (17 kB)\n",
      "  Preparing metadata (setup.py): started\n",
      "  Preparing metadata (setup.py): finished with status 'done'\n",
      "Requirement already satisfied: Pillow>=9.3.0 in c:\\programdata\\anaconda3\\lib\\site-packages (from pyscreeze>=0.1.21->pyautogui) (9.4.0)\n",
      "Collecting pyperclip (from mouseinfo->pyautogui)\n",
      "  Downloading pyperclip-1.8.2.tar.gz (20 kB)\n",
      "  Preparing metadata (setup.py): started\n",
      "  Preparing metadata (setup.py): finished with status 'done'\n",
      "Building wheels for collected packages: pyautogui, pygetwindow, pyscreeze, pytweening, mouseinfo, pymsgbox, pyperclip, pyrect\n",
      "  Building wheel for pyautogui (pyproject.toml): started\n",
      "  Building wheel for pyautogui (pyproject.toml): finished with status 'done'\n",
      "  Created wheel for pyautogui: filename=PyAutoGUI-0.9.54-py3-none-any.whl size=37597 sha256=d09b88c01a1613d0c7f3c9cbdac0e890a90f56d2faa708af1f1014f1b4dc1dcd\n",
      "  Stored in directory: c:\\users\\matth\\appdata\\local\\pip\\cache\\wheels\\95\\dc\\b1\\fe122b791e0db8bf439a0e6e1d2628e48f10bf430cae13521b\n",
      "  Building wheel for pygetwindow (setup.py): started\n",
      "  Building wheel for pygetwindow (setup.py): finished with status 'done'\n",
      "  Created wheel for pygetwindow: filename=PyGetWindow-0.0.9-py3-none-any.whl size=11079 sha256=14d15a072164ada506c618244e3a324d1ea970f183fd1ca6b6162d134be22cf6\n",
      "  Stored in directory: c:\\users\\matth\\appdata\\local\\pip\\cache\\wheels\\07\\75\\0b\\7ca0b598eb4c21d43ba4bcc78a0538dfcf803a5997da33bc19\n",
      "  Building wheel for pyscreeze (pyproject.toml): started\n",
      "  Building wheel for pyscreeze (pyproject.toml): finished with status 'done'\n",
      "  Created wheel for pyscreeze: filename=PyScreeze-0.1.30-py3-none-any.whl size=14400 sha256=088f8e8d246276736a2ac2c2b267eb340bd99434fa2041f1e111826f69b75d2a\n",
      "  Stored in directory: c:\\users\\matth\\appdata\\local\\pip\\cache\\wheels\\df\\bc\\15\\d685ca085ca4b11e46e54cc3da4e501a98856c7fea8f604500\n",
      "  Building wheel for pytweening (setup.py): started\n",
      "  Building wheel for pytweening (setup.py): finished with status 'done'\n",
      "  Created wheel for pytweening: filename=pytweening-1.0.7-py3-none-any.whl size=6214 sha256=f46bfe5d9a125d89fb750a55e6a34fb784fbb22fc3e51a84132bb48f4cd8b51a\n",
      "  Stored in directory: c:\\users\\matth\\appdata\\local\\pip\\cache\\wheels\\b2\\9b\\02\\059beba389e7e31a635bd9e8d9b7299f4ec11caca1f237f56d\n",
      "  Building wheel for mouseinfo (setup.py): started\n",
      "  Building wheel for mouseinfo (setup.py): finished with status 'done'\n",
      "  Created wheel for mouseinfo: filename=MouseInfo-0.1.3-py3-none-any.whl size=10906 sha256=6a3521522063ee392b70bef013b7091fc29bc46932bd65d42b7fcff49813751b\n",
      "  Stored in directory: c:\\users\\matth\\appdata\\local\\pip\\cache\\wheels\\20\\0b\\7f\\939ac9ff785b09951c706150537572c00123412f260a6024f3\n",
      "  Building wheel for pymsgbox (pyproject.toml): started\n",
      "  Building wheel for pymsgbox (pyproject.toml): finished with status 'done'\n",
      "  Created wheel for pymsgbox: filename=PyMsgBox-1.0.9-py3-none-any.whl size=7416 sha256=1355515da0f8a8b4e818bf3e3a09bfd648859967353e31f1fb70e584b1854b8a\n",
      "  Stored in directory: c:\\users\\matth\\appdata\\local\\pip\\cache\\wheels\\85\\92\\63\\e126ee5f33d8f2ed04f96e43ef5df7270a2f331848752e8662\n",
      "  Building wheel for pyperclip (setup.py): started\n",
      "  Building wheel for pyperclip (setup.py): finished with status 'done'\n",
      "  Created wheel for pyperclip: filename=pyperclip-1.8.2-py3-none-any.whl size=11137 sha256=fe0e95dda744ec1941b1cb69db98e2003a31354244617a083493a15a765773d8\n",
      "  Stored in directory: c:\\users\\matth\\appdata\\local\\pip\\cache\\wheels\\70\\bd\\ba\\8ae5c080c895c9360fe6e153acda2dee82527374467eae061b\n",
      "  Building wheel for pyrect (setup.py): started\n",
      "  Building wheel for pyrect (setup.py): finished with status 'done'\n",
      "  Created wheel for pyrect: filename=PyRect-0.2.0-py2.py3-none-any.whl size=11205 sha256=dfac84b2194d91852f1604a807eac3c0b8d0cbda550cc46151dc4f103548f6e0\n",
      "  Stored in directory: c:\\users\\matth\\appdata\\local\\pip\\cache\\wheels\\c4\\e9\\fc\\b7a666dd4f9a3168fb44d643079b41d36ddab52f470707e820\n",
      "Successfully built pyautogui pygetwindow pyscreeze pytweening mouseinfo pymsgbox pyperclip pyrect\n",
      "Installing collected packages: pytweening, pyrect, pyperclip, pymsgbox, pyscreeze, pygetwindow, mouseinfo, pyautogui\n",
      "Successfully installed mouseinfo-0.1.3 pyautogui-0.9.54 pygetwindow-0.0.9 pymsgbox-1.0.9 pyperclip-1.8.2 pyrect-0.2.0 pyscreeze-0.1.30 pytweening-1.0.7\n"
     ]
    }
   ],
   "source": [
    "!pip install pyautogui"
   ]
  },
  {
   "cell_type": "code",
   "execution_count": 12,
   "id": "0e1586e8",
   "metadata": {
    "collapsed": true
   },
   "outputs": [
    {
     "name": "stdout",
     "output_type": "stream",
     "text": [
      "Defaulting to user installation because normal site-packages is not writeable\n",
      "Requirement already satisfied: pyperclip in c:\\users\\matth\\appdata\\roaming\\python\\python311\\site-packages (1.8.2)\n"
     ]
    }
   ],
   "source": [
    "!pip install pyperclip"
   ]
  },
  {
   "cell_type": "code",
   "execution_count": 18,
   "id": "e616efc4",
   "metadata": {},
   "outputs": [],
   "source": [
    "\n",
    "import pyautogui\n",
    "import pyperclip"
   ]
  },
  {
   "cell_type": "markdown",
   "id": "36676ff7",
   "metadata": {},
   "source": [
    "### Criando o e-mail que vamos enviar"
   ]
  },
  {
   "cell_type": "code",
   "execution_count": 22,
   "id": "7097aa02",
   "metadata": {},
   "outputs": [],
   "source": [
    "destinatario = \"emaildesejado@gmail.com\"\n",
    "assunto = \"Análise diária\"\n",
    "mensagem = f\"\"\"\n",
    "Bom dia,\n",
    "Segue abaixo as análises da ação {ticker} dos últimos seis meses:\n",
    "Cotação máxima: R${round(maxima,2)}\n",
    "Cotação mínima: R${round(minima,2)}\n",
    "Cotação atual: R${round(atual,2)}\n",
    "Atenciosamente,\n",
    "Matthews.\n",
    "\"\"\""
   ]
  },
  {
   "cell_type": "code",
   "execution_count": 16,
   "id": "e4ce53ae",
   "metadata": {},
   "outputs": [
    {
     "name": "stdout",
     "output_type": "stream",
     "text": [
      "matthewssilva96@gmail.com\n",
      "Análise diária\n",
      "\n",
      "Bom dia,\n",
      "Segue abaixo as análises da ação PETR4.SA dos últimos seis meses:\n",
      "Cotação máxima: R$39.96\n",
      "Cotação mínima: R$27.26\n",
      "Cotação atual: R$39.96\n",
      "Atenciosamente,\n",
      "Matthews.\n",
      "\n"
     ]
    }
   ],
   "source": [
    "\n",
    "print(destinatario)\n",
    "print(assunto)\n",
    "print(mensagem)"
   ]
  },
  {
   "cell_type": "markdown",
   "id": "aa774fc7",
   "metadata": {},
   "source": [
    "### Automatizando o envio\n"
   ]
  },
  {
   "cell_type": "code",
   "execution_count": 23,
   "id": "d6a43c15",
   "metadata": {},
   "outputs": [
    {
     "name": "stdout",
     "output_type": "stream",
     "text": [
      "E-mail enviado com sucesso!\n"
     ]
    }
   ],
   "source": [
    "# configurar uma pausa entre as ações do pyautogui\n",
    "pyautogui.PAUSE = 3\n",
    "# abrir uma nova aba\n",
    "pyautogui.hotkey(\"ctrl\", \"t\")\n",
    "# copiar o endereço do gmail para o clipboard\n",
    "pyperclip.copy(\"www.gmail.com\")\n",
    "# colar o endereço do gmail e dar um ENTER\n",
    "pyautogui.hotkey(\"ctrl\", \"v\")\n",
    "pyautogui.press(\"enter\")\n",
    "# clicando no botão Escrever\n",
    "pyautogui.click(x=142, y=272)\n",
    "# Preenchendo o destinatário\n",
    "pyperclip.copy(destinatario)\n",
    "pyautogui.hotkey(\"ctrl\", \"v\")\n",
    "pyautogui.press(\"tab\")\n",
    "# Preenchendo o assunto\n",
    "pyperclip.copy(assunto)\n",
    "pyautogui.hotkey(\"ctrl\", \"v\")\n",
    "pyautogui.press(\"tab\")\n",
    "# Preenchendo a mensagem\n",
    "pyperclip.copy(mensagem)\n",
    "pyautogui.hotkey(\"ctrl\", \"v\")\n",
    "# Clicar no botão Enviar\n",
    "pyautogui.click(x=1229, y=985)\n",
    "# fechar a aba do gmail\n",
    "pyautogui.hotkey(\"ctrl\", \"f4\")\n",
    "# Imprimir mensagem de enviado com sucesso\n",
    "print('E-mail enviado com sucesso!')\n"
   ]
  },
  {
   "cell_type": "code",
   "execution_count": 20,
   "id": "6a50e96b",
   "metadata": {},
   "outputs": [
    {
     "data": {
      "text/plain": [
       "Point(x=1229, y=985)"
      ]
     },
     "execution_count": 20,
     "metadata": {},
     "output_type": "execute_result"
    }
   ],
   "source": [
    "import time\n",
    "time.sleep(5)\n",
    "pyautogui.position()"
   ]
  },
  {
   "cell_type": "code",
   "execution_count": null,
   "id": "7a28e378",
   "metadata": {},
   "outputs": [],
   "source": []
  }
 ],
 "metadata": {
  "kernelspec": {
   "display_name": "Python 3 (ipykernel)",
   "language": "python",
   "name": "python3"
  },
  "language_info": {
   "codemirror_mode": {
    "name": "ipython",
    "version": 3
   },
   "file_extension": ".py",
   "mimetype": "text/x-python",
   "name": "python",
   "nbconvert_exporter": "python",
   "pygments_lexer": "ipython3",
   "version": "3.11.5"
  }
 },
 "nbformat": 4,
 "nbformat_minor": 5
}
